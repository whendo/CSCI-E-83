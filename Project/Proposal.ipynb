{
 "cells": [
  {
   "metadata": {},
   "cell_type": "markdown",
   "source": [
    "# Proposal: Bitcoin, The New Gold\n",
    "Bill Henderson\n",
    "\n",
    "CSCI-E-83"
   ],
   "id": "e5bc55ce006b726"
  },
  {
   "metadata": {},
   "cell_type": "markdown",
   "source": [
    "# Introduction\n",
    "As Marion Laboure, senior economist and market strategist at Deutsche Bank mentions in her video about Bitcoin (Laboure 2024), mankind has always sought assets to store wealth in combination with normal financial instruments that governments use for commerce. The longest lasting and best known of these long term assets is gold. As Bitcoin (BTC) matures and loses some of its new and eccentric flavor, some desirable qualities emerge like fixed supply, ease of trade, and value. These emerging qualities have got financial minded people thinking, could BTC be the next gold?"
   ],
   "id": "a8e6f177e75bd6ee"
  },
  {
   "metadata": {},
   "cell_type": "markdown",
   "source": [
    "# Project Goals\n",
    "This project will endeavour to show that BTC is currently performing similarly to gold and could be seen as a replacement for gold in its reaction to market stimulus. This will be analyzed by collecting eight different BTC exchange datasets from Kaggle (Bukhari 2024) to better understand the response of BTC markets and compare those responses to the Gold market data from Novandra's Kaggle dataset (Novandra 2024). Both of these datasets show values in US Dollars (USD)."
   ],
   "id": "2c2f12caefe92667"
  },
  {
   "metadata": {},
   "cell_type": "markdown",
   "source": "# Data",
   "id": "2a099acbc46072ae"
  },
  {
   "metadata": {},
   "cell_type": "markdown",
   "source": "# Exploratory Data Analysis",
   "id": "5f0ef8df7cca01d1"
  },
  {
   "metadata": {},
   "cell_type": "markdown",
   "source": "# Modeling Methods",
   "id": "4e48fc0649d79235"
  },
  {
   "metadata": {},
   "cell_type": "markdown",
   "source": "# Appendix",
   "id": "f4c9250946f33abd"
  },
  {
   "metadata": {},
   "cell_type": "markdown",
   "source": [
    "## Bibliography\n",
    "\n",
    "Laboure, Marion (2024). Bitcoin could potentially become the 21st century gold. [online] Available at: https://www.db.com/what-next/digital-disruption/dossier-payments/i-could-potentially-see-bitcoin-to-become-the-21st-century-gold.\n",
    "\n",
    "Novandra Anugrah (2024). XAU/USD Gold Price Historical Data (2004-2024). [online] Kaggle.com. Available at: https://www.kaggle.com/datasets/novandraanugrah/xauusd-gold-price-historical-data-2004-2024.\n",
    "\n",
    "Bukhari, I. (2024). Bitcoin BTC, 7 Exchanges, 1m Full Historical Data. [online] Kaggle.com. Available at: https://www.kaggle.com/datasets/imranbukhari/comprehensive-btcusd-1m-data [Accessed 19 Nov. 2024].\n",
    "\n",
    "‌"
   ],
   "id": "21ffeb44ac4894be"
  },
  {
   "metadata": {},
   "cell_type": "markdown",
   "source": "## Code",
   "id": "10d16d8258c23166"
  }
 ],
 "metadata": {
  "kernelspec": {
   "display_name": "Python 3",
   "language": "python",
   "name": "python3"
  },
  "language_info": {
   "codemirror_mode": {
    "name": "ipython",
    "version": 2
   },
   "file_extension": ".py",
   "mimetype": "text/x-python",
   "name": "python",
   "nbconvert_exporter": "python",
   "pygments_lexer": "ipython2",
   "version": "2.7.6"
  }
 },
 "nbformat": 4,
 "nbformat_minor": 5
}
